{
 "cells": [
  {
   "cell_type": "code",
   "execution_count": 12,
   "metadata": {
    "execution": {
     "iopub.execute_input": "2025-10-10T19:01:01.166521Z",
     "iopub.status.busy": "2025-10-10T19:01:01.166066Z",
     "iopub.status.idle": "2025-10-10T19:01:04.860826Z",
     "shell.execute_reply": "2025-10-10T19:01:04.859945Z",
     "shell.execute_reply.started": "2025-10-10T19:01:01.166486Z"
    },
    "trusted": true
   },
   "outputs": [
    {
     "name": "stdout",
     "output_type": "stream",
     "text": [
      "Requirement already satisfied: faiss-cpu in /usr/local/lib/python3.11/dist-packages (1.12.0)\n",
      "Requirement already satisfied: gradio in /usr/local/lib/python3.11/dist-packages (5.31.0)\n",
      "Requirement already satisfied: transformers in /usr/local/lib/python3.11/dist-packages (4.52.4)\n",
      "Requirement already satisfied: soundfile in /usr/local/lib/python3.11/dist-packages (0.13.1)\n",
      "Requirement already satisfied: numpy<3.0,>=1.25.0 in /usr/local/lib/python3.11/dist-packages (from faiss-cpu) (1.26.4)\n",
      "Requirement already satisfied: packaging in /usr/local/lib/python3.11/dist-packages (from faiss-cpu) (25.0)\n",
      "Requirement already satisfied: aiofiles<25.0,>=22.0 in /usr/local/lib/python3.11/dist-packages (from gradio) (22.1.0)\n",
      "Requirement already satisfied: anyio<5.0,>=3.0 in /usr/local/lib/python3.11/dist-packages (from gradio) (4.9.0)\n",
      "Requirement already satisfied: fastapi<1.0,>=0.115.2 in /usr/local/lib/python3.11/dist-packages (from gradio) (0.115.13)\n",
      "Requirement already satisfied: ffmpy in /usr/local/lib/python3.11/dist-packages (from gradio) (0.6.0)\n",
      "Requirement already satisfied: gradio-client==1.10.1 in /usr/local/lib/python3.11/dist-packages (from gradio) (1.10.1)\n",
      "Requirement already satisfied: groovy~=0.1 in /usr/local/lib/python3.11/dist-packages (from gradio) (0.1.2)\n",
      "Requirement already satisfied: httpx>=0.24.1 in /usr/local/lib/python3.11/dist-packages (from gradio) (0.28.1)\n",
      "Requirement already satisfied: huggingface-hub>=0.28.1 in /usr/local/lib/python3.11/dist-packages (from gradio) (0.33.1)\n",
      "Requirement already satisfied: jinja2<4.0 in /usr/local/lib/python3.11/dist-packages (from gradio) (3.1.6)\n",
      "Requirement already satisfied: markupsafe<4.0,>=2.0 in /usr/local/lib/python3.11/dist-packages (from gradio) (3.0.2)\n",
      "Requirement already satisfied: orjson~=3.0 in /usr/local/lib/python3.11/dist-packages (from gradio) (3.10.18)\n",
      "Requirement already satisfied: pandas<3.0,>=1.0 in /usr/local/lib/python3.11/dist-packages (from gradio) (2.2.3)\n",
      "Requirement already satisfied: pillow<12.0,>=8.0 in /usr/local/lib/python3.11/dist-packages (from gradio) (11.2.1)\n",
      "Requirement already satisfied: pydantic<2.12,>=2.0 in /usr/local/lib/python3.11/dist-packages (from gradio) (2.11.7)\n",
      "Requirement already satisfied: pydub in /usr/local/lib/python3.11/dist-packages (from gradio) (0.25.1)\n",
      "Requirement already satisfied: python-multipart>=0.0.18 in /usr/local/lib/python3.11/dist-packages (from gradio) (0.0.20)\n",
      "Requirement already satisfied: pyyaml<7.0,>=5.0 in /usr/local/lib/python3.11/dist-packages (from gradio) (6.0.2)\n",
      "Requirement already satisfied: ruff>=0.9.3 in /usr/local/lib/python3.11/dist-packages (from gradio) (0.12.0)\n",
      "Requirement already satisfied: safehttpx<0.2.0,>=0.1.6 in /usr/local/lib/python3.11/dist-packages (from gradio) (0.1.6)\n",
      "Requirement already satisfied: semantic-version~=2.0 in /usr/local/lib/python3.11/dist-packages (from gradio) (2.10.0)\n",
      "Requirement already satisfied: starlette<1.0,>=0.40.0 in /usr/local/lib/python3.11/dist-packages (from gradio) (0.46.2)\n",
      "Requirement already satisfied: tomlkit<0.14.0,>=0.12.0 in /usr/local/lib/python3.11/dist-packages (from gradio) (0.13.3)\n",
      "Requirement already satisfied: typer<1.0,>=0.12 in /usr/local/lib/python3.11/dist-packages (from gradio) (0.16.0)\n",
      "Requirement already satisfied: typing-extensions~=4.0 in /usr/local/lib/python3.11/dist-packages (from gradio) (4.14.0)\n",
      "Requirement already satisfied: uvicorn>=0.14.0 in /usr/local/lib/python3.11/dist-packages (from gradio) (0.34.3)\n",
      "Requirement already satisfied: fsspec in /usr/local/lib/python3.11/dist-packages (from gradio-client==1.10.1->gradio) (2025.5.1)\n",
      "Requirement already satisfied: websockets<16.0,>=10.0 in /usr/local/lib/python3.11/dist-packages (from gradio-client==1.10.1->gradio) (15.0.1)\n",
      "Requirement already satisfied: filelock in /usr/local/lib/python3.11/dist-packages (from transformers) (3.18.0)\n",
      "Requirement already satisfied: regex!=2019.12.17 in /usr/local/lib/python3.11/dist-packages (from transformers) (2024.11.6)\n",
      "Requirement already satisfied: requests in /usr/local/lib/python3.11/dist-packages (from transformers) (2.32.4)\n",
      "Requirement already satisfied: tokenizers<0.22,>=0.21 in /usr/local/lib/python3.11/dist-packages (from transformers) (0.21.2)\n",
      "Requirement already satisfied: safetensors>=0.4.3 in /usr/local/lib/python3.11/dist-packages (from transformers) (0.5.3)\n",
      "Requirement already satisfied: tqdm>=4.27 in /usr/local/lib/python3.11/dist-packages (from transformers) (4.67.1)\n",
      "Requirement already satisfied: cffi>=1.0 in /usr/local/lib/python3.11/dist-packages (from soundfile) (1.17.1)\n",
      "Requirement already satisfied: idna>=2.8 in /usr/local/lib/python3.11/dist-packages (from anyio<5.0,>=3.0->gradio) (3.10)\n",
      "Requirement already satisfied: sniffio>=1.1 in /usr/local/lib/python3.11/dist-packages (from anyio<5.0,>=3.0->gradio) (1.3.1)\n",
      "Requirement already satisfied: pycparser in /usr/local/lib/python3.11/dist-packages (from cffi>=1.0->soundfile) (2.22)\n",
      "Requirement already satisfied: certifi in /usr/local/lib/python3.11/dist-packages (from httpx>=0.24.1->gradio) (2025.6.15)\n",
      "Requirement already satisfied: httpcore==1.* in /usr/local/lib/python3.11/dist-packages (from httpx>=0.24.1->gradio) (1.0.9)\n",
      "Requirement already satisfied: h11>=0.16 in /usr/local/lib/python3.11/dist-packages (from httpcore==1.*->httpx>=0.24.1->gradio) (0.16.0)\n",
      "Requirement already satisfied: hf-xet<2.0.0,>=1.1.2 in /usr/local/lib/python3.11/dist-packages (from huggingface-hub>=0.28.1->gradio) (1.1.5)\n",
      "Requirement already satisfied: mkl_fft in /usr/local/lib/python3.11/dist-packages (from numpy<3.0,>=1.25.0->faiss-cpu) (1.3.8)\n",
      "Requirement already satisfied: mkl_random in /usr/local/lib/python3.11/dist-packages (from numpy<3.0,>=1.25.0->faiss-cpu) (1.2.4)\n",
      "Requirement already satisfied: mkl_umath in /usr/local/lib/python3.11/dist-packages (from numpy<3.0,>=1.25.0->faiss-cpu) (0.1.1)\n",
      "Requirement already satisfied: mkl in /usr/local/lib/python3.11/dist-packages (from numpy<3.0,>=1.25.0->faiss-cpu) (2025.2.0)\n",
      "Requirement already satisfied: tbb4py in /usr/local/lib/python3.11/dist-packages (from numpy<3.0,>=1.25.0->faiss-cpu) (2022.2.0)\n",
      "Requirement already satisfied: mkl-service in /usr/local/lib/python3.11/dist-packages (from numpy<3.0,>=1.25.0->faiss-cpu) (2.4.1)\n",
      "Requirement already satisfied: python-dateutil>=2.8.2 in /usr/local/lib/python3.11/dist-packages (from pandas<3.0,>=1.0->gradio) (2.9.0.post0)\n",
      "Requirement already satisfied: pytz>=2020.1 in /usr/local/lib/python3.11/dist-packages (from pandas<3.0,>=1.0->gradio) (2025.2)\n",
      "Requirement already satisfied: tzdata>=2022.7 in /usr/local/lib/python3.11/dist-packages (from pandas<3.0,>=1.0->gradio) (2025.2)\n",
      "Requirement already satisfied: annotated-types>=0.6.0 in /usr/local/lib/python3.11/dist-packages (from pydantic<2.12,>=2.0->gradio) (0.7.0)\n",
      "Requirement already satisfied: pydantic-core==2.33.2 in /usr/local/lib/python3.11/dist-packages (from pydantic<2.12,>=2.0->gradio) (2.33.2)\n",
      "Requirement already satisfied: typing-inspection>=0.4.0 in /usr/local/lib/python3.11/dist-packages (from pydantic<2.12,>=2.0->gradio) (0.4.1)\n",
      "Requirement already satisfied: click>=8.0.0 in /usr/local/lib/python3.11/dist-packages (from typer<1.0,>=0.12->gradio) (8.2.1)\n",
      "Requirement already satisfied: shellingham>=1.3.0 in /usr/local/lib/python3.11/dist-packages (from typer<1.0,>=0.12->gradio) (1.5.4)\n",
      "Requirement already satisfied: rich>=10.11.0 in /usr/local/lib/python3.11/dist-packages (from typer<1.0,>=0.12->gradio) (14.0.0)\n",
      "Requirement already satisfied: charset_normalizer<4,>=2 in /usr/local/lib/python3.11/dist-packages (from requests->transformers) (3.4.2)\n",
      "Requirement already satisfied: urllib3<3,>=1.21.1 in /usr/local/lib/python3.11/dist-packages (from requests->transformers) (2.5.0)\n",
      "Requirement already satisfied: six>=1.5 in /usr/local/lib/python3.11/dist-packages (from python-dateutil>=2.8.2->pandas<3.0,>=1.0->gradio) (1.17.0)\n",
      "Requirement already satisfied: markdown-it-py>=2.2.0 in /usr/local/lib/python3.11/dist-packages (from rich>=10.11.0->typer<1.0,>=0.12->gradio) (3.0.0)\n",
      "Requirement already satisfied: pygments<3.0.0,>=2.13.0 in /usr/local/lib/python3.11/dist-packages (from rich>=10.11.0->typer<1.0,>=0.12->gradio) (2.19.2)\n",
      "Requirement already satisfied: intel-openmp<2026,>=2024 in /usr/local/lib/python3.11/dist-packages (from mkl->numpy<3.0,>=1.25.0->faiss-cpu) (2024.2.0)\n",
      "Requirement already satisfied: tbb==2022.* in /usr/local/lib/python3.11/dist-packages (from mkl->numpy<3.0,>=1.25.0->faiss-cpu) (2022.2.0)\n",
      "Requirement already satisfied: tcmlib==1.* in /usr/local/lib/python3.11/dist-packages (from tbb==2022.*->mkl->numpy<3.0,>=1.25.0->faiss-cpu) (1.4.0)\n",
      "Requirement already satisfied: intel-cmplr-lib-rt in /usr/local/lib/python3.11/dist-packages (from mkl_umath->numpy<3.0,>=1.25.0->faiss-cpu) (2024.2.0)\n",
      "Requirement already satisfied: intel-cmplr-lib-ur==2024.2.0 in /usr/local/lib/python3.11/dist-packages (from intel-openmp<2026,>=2024->mkl->numpy<3.0,>=1.25.0->faiss-cpu) (2024.2.0)\n",
      "Requirement already satisfied: mdurl~=0.1 in /usr/local/lib/python3.11/dist-packages (from markdown-it-py>=2.2.0->rich>=10.11.0->typer<1.0,>=0.12->gradio) (0.1.2)\n"
     ]
    }
   ],
   "source": [
    "!pip install faiss-cpu gradio transformers soundfile"
   ]
  },
  {
   "cell_type": "code",
   "execution_count": 13,
   "metadata": {
    "execution": {
     "iopub.execute_input": "2025-10-10T19:01:04.862796Z",
     "iopub.status.busy": "2025-10-10T19:01:04.862484Z",
     "iopub.status.idle": "2025-10-10T19:01:04.869034Z",
     "shell.execute_reply": "2025-10-10T19:01:04.867985Z",
     "shell.execute_reply.started": "2025-10-10T19:01:04.862771Z"
    },
    "trusted": true
   },
   "outputs": [],
   "source": [
    "import os, shutil\n",
    "import faiss, json\n",
    "import numpy as np\n",
    "import torch, tempfile\n",
    "import IPython.display as ipd\n",
    "import threading, time\n",
    "import requests\n",
    "import gradio as gr\n",
    "import soundfile as sf \n",
    "import io, glob # Import glob to list files in a directory\n",
    "from PIL import Image\n",
    "from io import BytesIO\n",
    "from IPython.display import Audio # Keep for potential debugging/display outside Gradio\n",
    "from transformers import CLIPProcessor, CLIPModel, CLIPTokenizerFast\n",
    "from transformers import SpeechT5Processor, SpeechT5ForTextToSpeech, SpeechT5HifiGan"
   ]
  },
  {
   "cell_type": "code",
   "execution_count": null,
   "metadata": {
    "execution": {
     "iopub.execute_input": "2025-10-10T19:01:04.870208Z",
     "iopub.status.busy": "2025-10-10T19:01:04.869973Z",
     "iopub.status.idle": "2025-10-10T19:01:04.886671Z",
     "shell.execute_reply": "2025-10-10T19:01:04.886052Z",
     "shell.execute_reply.started": "2025-10-10T19:01:04.870182Z"
    },
    "trusted": true
   },
   "outputs": [],
   "source": [
    "# --- Configuration ---\n",
    "# Assuming the index and metadata files are already generated and saved from a previous run\n",
    "# If not, the indexing pipeline code would need to be included here as well.\n",
    "INDEX_FILE = \"image_search.index\"\n",
    "METADATA_FILE = \"image_search_metadata.json\"\n",
    "IMAGE_DIR = \"data_images\" # Directory where images were indexed from\n",
    "MODEL_ID = \"openai/clip-vit-base-patch32\"\n",
    "HF_API_TOKEN = \"ADD_YOUR_TOKEN\" # Define the HF API token\n",
    "headers = {\"Authorization\": f\"Bearer {HF_API_TOKEN}\",\"Content-Type\": \"audio/wav\"} # Define headers for HF API"
   ]
  },
  {
   "cell_type": "code",
   "execution_count": 15,
   "metadata": {
    "execution": {
     "iopub.execute_input": "2025-10-10T19:01:04.888208Z",
     "iopub.status.busy": "2025-10-10T19:01:04.887881Z",
     "iopub.status.idle": "2025-10-10T19:01:04.908512Z",
     "shell.execute_reply": "2025-10-10T19:01:04.907733Z",
     "shell.execute_reply.started": "2025-10-10T19:01:04.888185Z"
    },
    "trusted": true
   },
   "outputs": [
    {
     "name": "stdout",
     "output_type": "stream",
     "text": [
      "\n",
      "--- Upload Images for Indexing (to 'data_images') ---\n"
     ]
    }
   ],
   "source": [
    "if not os.path.exists(IMAGE_DIR):\n",
    "    os.makedirs(IMAGE_DIR)\n",
    "    print(f\"Created directory: {IMAGE_DIR}\")\n",
    "\n",
    "# --- Upload your images to the '{IMAGE_DIR}' directory for indexing. ---\n",
    "print(f\"\\n--- Upload Images for Indexing (to '{IMAGE_DIR}') ---\")"
   ]
  },
  {
   "cell_type": "code",
   "execution_count": 16,
   "metadata": {
    "_cell_guid": "b1076dfc-b9ad-4769-8c92-a6c4dae69d19",
    "_uuid": "8f2839f25d086af736a60e9eeb907d3b93b6e0e5",
    "execution": {
     "iopub.execute_input": "2025-10-10T19:01:04.910988Z",
     "iopub.status.busy": "2025-10-10T19:01:04.910395Z",
     "iopub.status.idle": "2025-10-10T19:07:31.680814Z",
     "shell.execute_reply": "2025-10-10T19:07:31.679967Z",
     "shell.execute_reply.started": "2025-10-10T19:01:04.910965Z"
    },
    "trusted": true
   },
   "outputs": [
    {
     "name": "stdout",
     "output_type": "stream",
     "text": [
      "Starting to copy images from /kaggle/input/fashion-product-images-dataset/fashion-dataset/images/ to data_images...\n",
      "\n",
      "Finished copying. Total files found in source: 44441\n",
      "Successfully copied 44441 files to data_images.\n"
     ]
    }
   ],
   "source": [
    "# 1. Source (Kaggle dataset path)\n",
    "source_image_directory = '/kaggle/input/fashion-product-images-dataset/fashion-dataset/images/'\n",
    "# --- Setup: Create Destination Directory ---\n",
    "if not os.path.exists(IMAGE_DIR):\n",
    "    os.makedirs(IMAGE_DIR)\n",
    "    print(f\"Created destination directory: {IMAGE_DIR}\")\n",
    "\n",
    "# --- Copy Images from Source to Destination ---\n",
    "print(f\"Starting to copy images from {source_image_directory} to {IMAGE_DIR}...\")\n",
    "\n",
    "copied_count = 0\n",
    "total_files_in_source = 0\n",
    "\n",
    "# os.walk traverses the source directory structure\n",
    "for dirname, _, filenames in os.walk(source_image_directory):\n",
    "    total_files_in_source += len(filenames)\n",
    "    \n",
    "    # Iterate over files found in the current subdirectory (dirname)\n",
    "    for filename in filenames:\n",
    "        \n",
    "        # 1. Construct the full path of the source file\n",
    "        src_path = os.path.join(dirname, filename)\n",
    "        \n",
    "        # 2. Construct the full path of the destination file\n",
    "        dst_path = os.path.join(IMAGE_DIR, filename)\n",
    "        \n",
    "        try:\n",
    "            # 3. Use shutil.copy to copy the file\n",
    "            # This is the line that actually \"uploads\" (copies) the image to your working folder.\n",
    "            shutil.copy(src_path, dst_path)\n",
    "            copied_count += 1\n",
    "        except Exception as e:\n",
    "            print(f\"Warning: Could not copy file {filename}: {e}\")\n",
    "            \n",
    "    # Optional: If you only want to copy a small subset for quick testing, \n",
    "    # you can uncomment and adjust this break condition:\n",
    "    # if copied_count > 1000:\n",
    "    #     print(\"Copied 1000 images, stopping early for test.\")\n",
    "    #     break\n",
    "\n",
    "# --- Summary ---\n",
    "print(f\"\\nFinished copying. Total files found in source: {total_files_in_source}\")\n",
    "print(f\"Successfully copied {copied_count} files to {IMAGE_DIR}.\")\n",
    "\n",
    "# You can now proceed with your indexing pipeline using IMAGE_DIR"
   ]
  },
  {
   "cell_type": "code",
   "execution_count": 17,
   "metadata": {
    "execution": {
     "iopub.execute_input": "2025-10-10T19:07:31.681884Z",
     "iopub.status.busy": "2025-10-10T19:07:31.681654Z",
     "iopub.status.idle": "2025-10-10T19:07:33.689119Z",
     "shell.execute_reply": "2025-10-10T19:07:33.688198Z",
     "shell.execute_reply.started": "2025-10-10T19:07:31.681867Z"
    },
    "trusted": true
   },
   "outputs": [
    {
     "name": "stdout",
     "output_type": "stream",
     "text": [
      "Using device: cuda\n",
      "CLIP model, processor, and tokenizer loaded successfully.\n"
     ]
    }
   ],
   "source": [
    "# --- Setup ---\n",
    "device = \"cuda\" if torch.cuda.is_available() else \"cpu\"\n",
    "print(f\"Using device: {device}\")\n",
    "\n",
    "# Load Model and Processor once\n",
    "try:\n",
    "    model = CLIPModel.from_pretrained(MODEL_ID).to(device)\n",
    "    processor = CLIPProcessor.from_pretrained(MODEL_ID)\n",
    "    tokenizer = CLIPTokenizerFast.from_pretrained(MODEL_ID) # Load tokenizer for text\n",
    "    print(\"CLIP model, processor, and tokenizer loaded successfully.\")\n",
    "except Exception as e:\n",
    "    print(f\"Error loading CLIP model or processor: {e}\")\n",
    "    model, processor, tokenizer = None, None, None # Set to None if loading fails"
   ]
  },
  {
   "cell_type": "code",
   "execution_count": 18,
   "metadata": {
    "execution": {
     "iopub.execute_input": "2025-10-10T19:07:33.690480Z",
     "iopub.status.busy": "2025-10-10T19:07:33.690105Z",
     "iopub.status.idle": "2025-10-10T19:07:33.702156Z",
     "shell.execute_reply": "2025-10-10T19:07:33.701171Z",
     "shell.execute_reply.started": "2025-10-10T19:07:33.690450Z"
    },
    "trusted": true
   },
   "outputs": [],
   "source": [
    " #--- Indexing Pipeline ---\n",
    "\n",
    "def get_image_embedding(image_path: str, model, processor, device) -> np.ndarray:\n",
    "    \"\"\"Generates the CLIP embedding vector for a single image file path.\"\"\"\n",
    "    if model is None or processor is None:\n",
    "        print(\"Error: CLIP model or processor not loaded.\")\n",
    "        return None\n",
    "    try:\n",
    "        image = Image.open(image_path).convert(\"RGB\")\n",
    "        inputs = processor(images=image, return_tensors=\"pt\").to(device)\n",
    "\n",
    "        with torch.no_grad():\n",
    "            image_features = model.get_image_features(pixel_values=inputs['pixel_values'])\n",
    "\n",
    "        embedding = image_features.cpu().numpy().flatten()\n",
    "        # Normalize the embedding\n",
    "        embedding = embedding / np.linalg.norm(embedding)\n",
    "        return embedding.astype('float32')\n",
    "    except Exception as e:\n",
    "        print(f\"Error processing image {image_path}: {e}\")\n",
    "        return None\n",
    "\n",
    "def create_image_index(image_dir: str, index_file: str, metadata_file: str, model, processor, device):\n",
    "    \"\"\"\n",
    "    Creates a FAISS index and metadata file for images in a directory.\n",
    "    \"\"\"\n",
    "    if model is None or processor is None:\n",
    "        print(\"Error: CLIP model or processor not loaded, cannot create index.\")\n",
    "        return\n",
    "\n",
    "    image_paths = glob.glob(os.path.join(image_dir, '*')) # Get all files in the image directory\n",
    "    image_paths = [f for f in image_paths if os.path.isfile(f) and f.lower().endswith(('.png', '.jpg', '.jpeg', '.bmp', '.gif'))] # Filter for image files\n",
    "\n",
    "    if not image_paths:\n",
    "        print(f\"No image files found in directory: {image_dir}. Cannot create index.\")\n",
    "        # Removed the repeated ACTION REQUIRED message here as upload is now handled above\n",
    "        return\n",
    "\n",
    "    embeddings_list = []\n",
    "    valid_image_paths = [] # Store paths of images that were successfully processed\n",
    "\n",
    "    print(f\"Found {len(image_paths)} images. Generating embeddings...\")\n",
    "    for i, image_path in enumerate(image_paths):\n",
    "        embedding = get_image_embedding(image_path, model, processor, device)\n",
    "        if embedding is not None:\n",
    "            embeddings_list.append(embedding)\n",
    "            valid_image_paths.append(image_path) # Only add path if embedding was successful\n",
    "        if (i + 1) % 100 == 0:\n",
    "            print(f\"Processed {i + 1}/{len(image_paths)} images.\")\n",
    "\n",
    "    if not embeddings_list:\n",
    "        print(\"No embeddings generated. Cannot create index.\")\n",
    "        return\n",
    "\n",
    "    embeddings_matrix = np.vstack(embeddings_list)\n",
    "    dimension = embeddings_matrix.shape[1]\n",
    "\n",
    "    print(f\"Creating FAISS index with dimension {dimension}...\")\n",
    "    index = faiss.IndexFlatIP(dimension) # Use Inner Product for normalized embeddings\n",
    "    index.add(embeddings_matrix)\n",
    "\n",
    "    print(f\"Index created with {index.ntotal} vectors.\")\n",
    "\n",
    "    # Save the index and metadata\n",
    "    faiss.write_index(index, index_file)\n",
    "    with open(metadata_file, 'w') as f:\n",
    "        json.dump(valid_image_paths, f) # Save the valid image paths\n",
    "\n",
    "    print(f\"FAISS index saved to {index_file}\")\n",
    "    print(f\"Image paths metadata saved to {metadata_file}\")"
   ]
  },
  {
   "cell_type": "code",
   "execution_count": 19,
   "metadata": {
    "execution": {
     "iopub.execute_input": "2025-10-10T19:07:33.703592Z",
     "iopub.status.busy": "2025-10-10T19:07:33.703268Z",
     "iopub.status.idle": "2025-10-10T19:58:31.961296Z",
     "shell.execute_reply": "2025-10-10T19:58:31.960532Z",
     "shell.execute_reply.started": "2025-10-10T19:07:33.703570Z"
    },
    "trusted": true
   },
   "outputs": [
    {
     "name": "stdout",
     "output_type": "stream",
     "text": [
      "Index files not found. Creating index...\n",
      "Found 44441 images. Generating embeddings...\n",
      "Processed 100/44441 images.\n",
      "Processed 200/44441 images.\n",
      "Processed 300/44441 images.\n",
      "Processed 400/44441 images.\n",
      "Processed 500/44441 images.\n",
      "Processed 600/44441 images.\n",
      "Processed 700/44441 images.\n",
      "Processed 800/44441 images.\n",
      "Processed 900/44441 images.\n",
      "Processed 1000/44441 images.\n",
      "Processed 1100/44441 images.\n",
      "Processed 1200/44441 images.\n",
      "Processed 1300/44441 images.\n",
      "Processed 1400/44441 images.\n",
      "Processed 1500/44441 images.\n",
      "Processed 1600/44441 images.\n",
      "Processed 1700/44441 images.\n",
      "Processed 1800/44441 images.\n",
      "Processed 1900/44441 images.\n",
      "Processed 2000/44441 images.\n",
      "Processed 2100/44441 images.\n",
      "Processed 2200/44441 images.\n",
      "Processed 2300/44441 images.\n",
      "Processed 2400/44441 images.\n",
      "Processed 2500/44441 images.\n",
      "Processed 2600/44441 images.\n",
      "Processed 2700/44441 images.\n",
      "Processed 2800/44441 images.\n",
      "Processed 2900/44441 images.\n",
      "Processed 3000/44441 images.\n",
      "Processed 3100/44441 images.\n",
      "Processed 3200/44441 images.\n",
      "Processed 3300/44441 images.\n",
      "Processed 3400/44441 images.\n",
      "Processed 3500/44441 images.\n",
      "Processed 3600/44441 images.\n",
      "Processed 3700/44441 images.\n",
      "Processed 3800/44441 images.\n",
      "Processed 3900/44441 images.\n",
      "Processed 4000/44441 images.\n",
      "Processed 4100/44441 images.\n",
      "Processed 4200/44441 images.\n",
      "Processed 4300/44441 images.\n",
      "Processed 4400/44441 images.\n",
      "Processed 4500/44441 images.\n",
      "Processed 4600/44441 images.\n",
      "Processed 4700/44441 images.\n",
      "Processed 4800/44441 images.\n",
      "Processed 4900/44441 images.\n",
      "Processed 5000/44441 images.\n",
      "Processed 5100/44441 images.\n",
      "Processed 5200/44441 images.\n",
      "Processed 5300/44441 images.\n",
      "Processed 5400/44441 images.\n",
      "Processed 5500/44441 images.\n",
      "Processed 5600/44441 images.\n",
      "Processed 5700/44441 images.\n",
      "Processed 5800/44441 images.\n",
      "Processed 5900/44441 images.\n",
      "Processed 6000/44441 images.\n",
      "Processed 6100/44441 images.\n",
      "Processed 6200/44441 images.\n",
      "Processed 6300/44441 images.\n",
      "Processed 6400/44441 images.\n",
      "Processed 6500/44441 images.\n",
      "Processed 6600/44441 images.\n",
      "Processed 6700/44441 images.\n",
      "Processed 6800/44441 images.\n",
      "Processed 6900/44441 images.\n",
      "Processed 7000/44441 images.\n",
      "Processed 7100/44441 images.\n",
      "Processed 7200/44441 images.\n",
      "Processed 7300/44441 images.\n",
      "Processed 7400/44441 images.\n",
      "Processed 7500/44441 images.\n",
      "Processed 7600/44441 images.\n",
      "Processed 7700/44441 images.\n",
      "Processed 7800/44441 images.\n",
      "Processed 7900/44441 images.\n",
      "Processed 8000/44441 images.\n",
      "Processed 8100/44441 images.\n",
      "Processed 8200/44441 images.\n",
      "Processed 8300/44441 images.\n",
      "Processed 8400/44441 images.\n",
      "Processed 8500/44441 images.\n",
      "Processed 8600/44441 images.\n",
      "Processed 8700/44441 images.\n",
      "Processed 8800/44441 images.\n",
      "Processed 8900/44441 images.\n",
      "Processed 9000/44441 images.\n",
      "Processed 9100/44441 images.\n",
      "Processed 9200/44441 images.\n",
      "Processed 9300/44441 images.\n",
      "Processed 9400/44441 images.\n",
      "Processed 9500/44441 images.\n",
      "Processed 9600/44441 images.\n",
      "Processed 9700/44441 images.\n",
      "Processed 9800/44441 images.\n",
      "Processed 9900/44441 images.\n",
      "Processed 10000/44441 images.\n",
      "Processed 10100/44441 images.\n",
      "Processed 10200/44441 images.\n",
      "Processed 10300/44441 images.\n",
      "Processed 10400/44441 images.\n",
      "Processed 10500/44441 images.\n",
      "Processed 10600/44441 images.\n",
      "Processed 10700/44441 images.\n",
      "Processed 10800/44441 images.\n",
      "Processed 10900/44441 images.\n",
      "Processed 11000/44441 images.\n",
      "Processed 11100/44441 images.\n",
      "Processed 11200/44441 images.\n",
      "Processed 11300/44441 images.\n",
      "Processed 11400/44441 images.\n",
      "Processed 11500/44441 images.\n",
      "Processed 11600/44441 images.\n",
      "Processed 11700/44441 images.\n",
      "Processed 11800/44441 images.\n",
      "Processed 11900/44441 images.\n",
      "Processed 12000/44441 images.\n",
      "Processed 12100/44441 images.\n",
      "Processed 12200/44441 images.\n",
      "Processed 12300/44441 images.\n",
      "Processed 12400/44441 images.\n",
      "Processed 12500/44441 images.\n",
      "Processed 12600/44441 images.\n",
      "Processed 12700/44441 images.\n",
      "Processed 12800/44441 images.\n",
      "Processed 12900/44441 images.\n",
      "Processed 13000/44441 images.\n",
      "Processed 13100/44441 images.\n",
      "Processed 13200/44441 images.\n",
      "Processed 13300/44441 images.\n",
      "Processed 13400/44441 images.\n",
      "Processed 13500/44441 images.\n",
      "Processed 13600/44441 images.\n",
      "Processed 13700/44441 images.\n",
      "Processed 13800/44441 images.\n",
      "Processed 13900/44441 images.\n",
      "Processed 14000/44441 images.\n",
      "Processed 14100/44441 images.\n",
      "Processed 14200/44441 images.\n",
      "Processed 14300/44441 images.\n",
      "Processed 14400/44441 images.\n",
      "Processed 14500/44441 images.\n",
      "Processed 14600/44441 images.\n",
      "Processed 14700/44441 images.\n",
      "Processed 14800/44441 images.\n",
      "Processed 14900/44441 images.\n",
      "Processed 15000/44441 images.\n",
      "Processed 15100/44441 images.\n",
      "Processed 15200/44441 images.\n",
      "Processed 15300/44441 images.\n",
      "Processed 15400/44441 images.\n",
      "Processed 15500/44441 images.\n",
      "Processed 15600/44441 images.\n",
      "Processed 15700/44441 images.\n",
      "Processed 15800/44441 images.\n",
      "Processed 15900/44441 images.\n",
      "Processed 16000/44441 images.\n",
      "Processed 16100/44441 images.\n",
      "Processed 16200/44441 images.\n",
      "Processed 16300/44441 images.\n",
      "Processed 16400/44441 images.\n",
      "Processed 16500/44441 images.\n",
      "Processed 16600/44441 images.\n",
      "Processed 16700/44441 images.\n",
      "Processed 16800/44441 images.\n",
      "Processed 16900/44441 images.\n",
      "Processed 17000/44441 images.\n",
      "Processed 17100/44441 images.\n",
      "Processed 17200/44441 images.\n",
      "Processed 17300/44441 images.\n",
      "Processed 17400/44441 images.\n",
      "Processed 17500/44441 images.\n",
      "Processed 17600/44441 images.\n",
      "Processed 17700/44441 images.\n",
      "Processed 17800/44441 images.\n",
      "Processed 17900/44441 images.\n",
      "Processed 18000/44441 images.\n",
      "Processed 18100/44441 images.\n",
      "Processed 18200/44441 images.\n",
      "Processed 18300/44441 images.\n",
      "Processed 18400/44441 images.\n",
      "Processed 18500/44441 images.\n",
      "Processed 18600/44441 images.\n",
      "Processed 18700/44441 images.\n",
      "Processed 18800/44441 images.\n",
      "Processed 18900/44441 images.\n",
      "Processed 19000/44441 images.\n",
      "Processed 19100/44441 images.\n",
      "Processed 19200/44441 images.\n",
      "Processed 19300/44441 images.\n",
      "Processed 19400/44441 images.\n",
      "Processed 19500/44441 images.\n",
      "Processed 19600/44441 images.\n",
      "Processed 19700/44441 images.\n",
      "Processed 19800/44441 images.\n",
      "Processed 19900/44441 images.\n",
      "Processed 20000/44441 images.\n",
      "Processed 20100/44441 images.\n",
      "Processed 20200/44441 images.\n",
      "Processed 20300/44441 images.\n",
      "Processed 20400/44441 images.\n",
      "Processed 20500/44441 images.\n",
      "Processed 20600/44441 images.\n",
      "Processed 20700/44441 images.\n",
      "Processed 20800/44441 images.\n",
      "Processed 20900/44441 images.\n",
      "Processed 21000/44441 images.\n",
      "Processed 21100/44441 images.\n",
      "Processed 21200/44441 images.\n",
      "Processed 21300/44441 images.\n",
      "Processed 21400/44441 images.\n",
      "Processed 21500/44441 images.\n",
      "Processed 21600/44441 images.\n",
      "Processed 21700/44441 images.\n",
      "Processed 21800/44441 images.\n",
      "Processed 21900/44441 images.\n",
      "Processed 22000/44441 images.\n",
      "Processed 22100/44441 images.\n",
      "Processed 22200/44441 images.\n",
      "Processed 22300/44441 images.\n",
      "Processed 22400/44441 images.\n",
      "Processed 22500/44441 images.\n",
      "Processed 22600/44441 images.\n",
      "Processed 22700/44441 images.\n",
      "Processed 22800/44441 images.\n",
      "Processed 22900/44441 images.\n",
      "Processed 23000/44441 images.\n",
      "Processed 23100/44441 images.\n",
      "Processed 23200/44441 images.\n",
      "Processed 23300/44441 images.\n",
      "Processed 23400/44441 images.\n",
      "Processed 23500/44441 images.\n",
      "Processed 23600/44441 images.\n",
      "Processed 23700/44441 images.\n",
      "Processed 23800/44441 images.\n",
      "Processed 23900/44441 images.\n",
      "Processed 24000/44441 images.\n",
      "Processed 24100/44441 images.\n",
      "Processed 24200/44441 images.\n",
      "Processed 24300/44441 images.\n",
      "Processed 24400/44441 images.\n",
      "Processed 24500/44441 images.\n",
      "Processed 24600/44441 images.\n",
      "Processed 24700/44441 images.\n",
      "Processed 24800/44441 images.\n",
      "Processed 24900/44441 images.\n",
      "Processed 25000/44441 images.\n",
      "Processed 25100/44441 images.\n",
      "Processed 25200/44441 images.\n",
      "Processed 25300/44441 images.\n",
      "Processed 25400/44441 images.\n",
      "Processed 25500/44441 images.\n",
      "Processed 25600/44441 images.\n",
      "Processed 25700/44441 images.\n",
      "Processed 25800/44441 images.\n",
      "Processed 25900/44441 images.\n",
      "Processed 26000/44441 images.\n",
      "Processed 26100/44441 images.\n",
      "Processed 26200/44441 images.\n",
      "Processed 26300/44441 images.\n",
      "Processed 26400/44441 images.\n",
      "Processed 26500/44441 images.\n",
      "Processed 26600/44441 images.\n",
      "Processed 26700/44441 images.\n",
      "Processed 26800/44441 images.\n",
      "Processed 26900/44441 images.\n",
      "Processed 27000/44441 images.\n",
      "Processed 27100/44441 images.\n",
      "Processed 27200/44441 images.\n",
      "Processed 27300/44441 images.\n",
      "Processed 27400/44441 images.\n",
      "Processed 27500/44441 images.\n",
      "Processed 27600/44441 images.\n",
      "Processed 27700/44441 images.\n",
      "Processed 27800/44441 images.\n",
      "Processed 27900/44441 images.\n",
      "Processed 28000/44441 images.\n",
      "Processed 28100/44441 images.\n",
      "Processed 28200/44441 images.\n",
      "Processed 28300/44441 images.\n",
      "Processed 28400/44441 images.\n",
      "Processed 28500/44441 images.\n",
      "Processed 28600/44441 images.\n",
      "Processed 28700/44441 images.\n",
      "Processed 28800/44441 images.\n",
      "Processed 28900/44441 images.\n",
      "Processed 29000/44441 images.\n",
      "Processed 29100/44441 images.\n",
      "Processed 29200/44441 images.\n",
      "Processed 29300/44441 images.\n",
      "Processed 29400/44441 images.\n",
      "Processed 29500/44441 images.\n",
      "Processed 29600/44441 images.\n",
      "Processed 29700/44441 images.\n",
      "Processed 29800/44441 images.\n",
      "Processed 29900/44441 images.\n",
      "Processed 30000/44441 images.\n",
      "Processed 30100/44441 images.\n",
      "Processed 30200/44441 images.\n",
      "Processed 30300/44441 images.\n",
      "Processed 30400/44441 images.\n",
      "Processed 30500/44441 images.\n",
      "Processed 30600/44441 images.\n",
      "Processed 30700/44441 images.\n",
      "Processed 30800/44441 images.\n",
      "Processed 30900/44441 images.\n",
      "Processed 31000/44441 images.\n",
      "Processed 31100/44441 images.\n",
      "Processed 31200/44441 images.\n",
      "Processed 31300/44441 images.\n",
      "Processed 31400/44441 images.\n",
      "Processed 31500/44441 images.\n",
      "Processed 31600/44441 images.\n",
      "Processed 31700/44441 images.\n",
      "Processed 31800/44441 images.\n",
      "Processed 31900/44441 images.\n",
      "Processed 32000/44441 images.\n",
      "Processed 32100/44441 images.\n",
      "Processed 32200/44441 images.\n",
      "Processed 32300/44441 images.\n",
      "Processed 32400/44441 images.\n",
      "Processed 32500/44441 images.\n",
      "Processed 32600/44441 images.\n",
      "Processed 32700/44441 images.\n",
      "Processed 32800/44441 images.\n",
      "Processed 32900/44441 images.\n",
      "Processed 33000/44441 images.\n",
      "Processed 33100/44441 images.\n",
      "Processed 33200/44441 images.\n",
      "Processed 33300/44441 images.\n",
      "Processed 33400/44441 images.\n",
      "Processed 33500/44441 images.\n",
      "Processed 33600/44441 images.\n",
      "Processed 33700/44441 images.\n",
      "Processed 33800/44441 images.\n",
      "Processed 33900/44441 images.\n",
      "Processed 34000/44441 images.\n",
      "Processed 34100/44441 images.\n",
      "Processed 34200/44441 images.\n",
      "Processed 34300/44441 images.\n",
      "Processed 34400/44441 images.\n",
      "Processed 34500/44441 images.\n",
      "Processed 34600/44441 images.\n",
      "Processed 34700/44441 images.\n",
      "Processed 34800/44441 images.\n",
      "Processed 34900/44441 images.\n",
      "Processed 35000/44441 images.\n",
      "Processed 35100/44441 images.\n",
      "Processed 35200/44441 images.\n",
      "Processed 35300/44441 images.\n",
      "Processed 35400/44441 images.\n",
      "Processed 35500/44441 images.\n",
      "Processed 35600/44441 images.\n",
      "Processed 35700/44441 images.\n",
      "Processed 35800/44441 images.\n",
      "Processed 35900/44441 images.\n",
      "Processed 36000/44441 images.\n",
      "Processed 36100/44441 images.\n",
      "Processed 36200/44441 images.\n",
      "Processed 36300/44441 images.\n",
      "Processed 36400/44441 images.\n",
      "Processed 36500/44441 images.\n",
      "Processed 36600/44441 images.\n",
      "Processed 36700/44441 images.\n",
      "Processed 36800/44441 images.\n",
      "Processed 36900/44441 images.\n",
      "Processed 37000/44441 images.\n",
      "Processed 37100/44441 images.\n",
      "Processed 37200/44441 images.\n",
      "Processed 37300/44441 images.\n",
      "Processed 37400/44441 images.\n",
      "Processed 37500/44441 images.\n",
      "Processed 37600/44441 images.\n",
      "Processed 37700/44441 images.\n",
      "Processed 37800/44441 images.\n",
      "Processed 37900/44441 images.\n",
      "Processed 38000/44441 images.\n",
      "Processed 38100/44441 images.\n",
      "Processed 38200/44441 images.\n",
      "Processed 38300/44441 images.\n",
      "Processed 38400/44441 images.\n",
      "Processed 38500/44441 images.\n",
      "Processed 38600/44441 images.\n",
      "Processed 38700/44441 images.\n",
      "Processed 38800/44441 images.\n",
      "Processed 38900/44441 images.\n",
      "Processed 39000/44441 images.\n",
      "Processed 39100/44441 images.\n",
      "Processed 39200/44441 images.\n",
      "Processed 39300/44441 images.\n",
      "Processed 39400/44441 images.\n",
      "Processed 39500/44441 images.\n",
      "Processed 39600/44441 images.\n",
      "Processed 39700/44441 images.\n",
      "Processed 39800/44441 images.\n",
      "Processed 39900/44441 images.\n",
      "Processed 40000/44441 images.\n",
      "Processed 40100/44441 images.\n",
      "Processed 40200/44441 images.\n",
      "Processed 40300/44441 images.\n",
      "Processed 40400/44441 images.\n",
      "Processed 40500/44441 images.\n",
      "Processed 40600/44441 images.\n",
      "Processed 40700/44441 images.\n",
      "Processed 40800/44441 images.\n",
      "Processed 40900/44441 images.\n",
      "Processed 41000/44441 images.\n",
      "Processed 41100/44441 images.\n",
      "Processed 41200/44441 images.\n",
      "Processed 41300/44441 images.\n",
      "Processed 41400/44441 images.\n",
      "Processed 41500/44441 images.\n",
      "Processed 41600/44441 images.\n",
      "Processed 41700/44441 images.\n",
      "Processed 41800/44441 images.\n",
      "Processed 41900/44441 images.\n",
      "Processed 42000/44441 images.\n",
      "Processed 42100/44441 images.\n",
      "Processed 42200/44441 images.\n",
      "Processed 42300/44441 images.\n",
      "Processed 42400/44441 images.\n",
      "Processed 42500/44441 images.\n",
      "Processed 42600/44441 images.\n",
      "Processed 42700/44441 images.\n",
      "Processed 42800/44441 images.\n",
      "Processed 42900/44441 images.\n",
      "Processed 43000/44441 images.\n",
      "Processed 43100/44441 images.\n",
      "Processed 43200/44441 images.\n",
      "Processed 43300/44441 images.\n",
      "Processed 43400/44441 images.\n",
      "Processed 43500/44441 images.\n",
      "Processed 43600/44441 images.\n",
      "Processed 43700/44441 images.\n",
      "Processed 43800/44441 images.\n",
      "Processed 43900/44441 images.\n",
      "Processed 44000/44441 images.\n",
      "Processed 44100/44441 images.\n",
      "Processed 44200/44441 images.\n",
      "Processed 44300/44441 images.\n",
      "Processed 44400/44441 images.\n",
      "Creating FAISS index with dimension 512...\n",
      "Index created with 44441 vectors.\n",
      "FAISS index saved to image_search.index\n",
      "Image paths metadata saved to image_search_metadata.json\n"
     ]
    }
   ],
   "source": [
    "if not os.path.exists(INDEX_FILE) or not os.path.exists(METADATA_FILE):\n",
    "    print(\"Index files not found. Creating index...\")\n",
    "    # Ensure IMAGE_DIR exists and contains images before calling create_image_index\n",
    "    if os.path.exists(IMAGE_DIR):\n",
    "        create_image_index(IMAGE_DIR, INDEX_FILE, METADATA_FILE, model, processor, device)\n",
    "    else:\n",
    "        # This case should ideally not happen if the directory creation above was successful\n",
    "        print(f\"Error: Image directory '{IMAGE_DIR}' not found. Cannot create index.\")\n",
    "        print(\"Please upload your image data to the specified directory.\")\n",
    "else:\n",
    "    print(\"Index files found. Skipping index creation.\")"
   ]
  },
  {
   "cell_type": "code",
   "execution_count": 20,
   "metadata": {
    "execution": {
     "iopub.execute_input": "2025-10-10T19:58:31.962548Z",
     "iopub.status.busy": "2025-10-10T19:58:31.962238Z",
     "iopub.status.idle": "2025-10-10T19:58:32.073854Z",
     "shell.execute_reply": "2025-10-10T19:58:32.073194Z",
     "shell.execute_reply.started": "2025-10-10T19:58:31.962528Z"
    },
    "trusted": true
   },
   "outputs": [
    {
     "name": "stdout",
     "output_type": "stream",
     "text": [
      "FAISS index and image paths loaded successfully.\n"
     ]
    }
   ],
   "source": [
    "# Load the index and metadata once\n",
    "# This is done after the potential index creation step\n",
    "index, image_paths = None, None # Re-initialize before loading\n",
    "try:\n",
    "    # Check again if index and metadata files exist after potential creation\n",
    "    if os.path.exists(INDEX_FILE) and os.path.exists(METADATA_FILE):\n",
    "        index = faiss.read_index(INDEX_FILE)\n",
    "        with open(METADATA_FILE, 'r') as f:\n",
    "            image_paths = json.load(f)\n",
    "        print(\"FAISS index and image paths loaded successfully.\")\n",
    "    else:\n",
    "        print(f\"Error: Index files ({INDEX_FILE}, {METADATA_FILE}) still not found after attempted creation.\")\n",
    "        print(\"Please check the indexing process and ensure the image directory exists and contains images.\")\n",
    "\n",
    "except Exception as e:\n",
    "    print(f\"Error during initial index loading after creation attempt: {e}\")\n",
    "    index = None\n",
    "    image_paths = None"
   ]
  },
  {
   "cell_type": "code",
   "execution_count": 21,
   "metadata": {
    "execution": {
     "iopub.execute_input": "2025-10-10T19:58:32.075006Z",
     "iopub.status.busy": "2025-10-10T19:58:32.074684Z",
     "iopub.status.idle": "2025-10-10T19:58:32.087386Z",
     "shell.execute_reply": "2025-10-10T19:58:32.086552Z",
     "shell.execute_reply.started": "2025-10-10T19:58:32.074979Z"
    },
    "trusted": true
   },
   "outputs": [],
   "source": [
    "# --- Helper Functions (combined from previous cells) ---\n",
    "\n",
    "def get_text_embedding(text_prompt: str, model, tokenizer, device) -> np.ndarray:\n",
    "    \"\"\" Generates the CLIP embedding vector for a single text prompt.\"\"\"\n",
    "    if model is None or tokenizer is None:\n",
    "        print(\"Error: CLIP model or tokenizer not loaded.\")\n",
    "        return None\n",
    "    try:\n",
    "        # Preprocess the text\n",
    "        inputs = tokenizer(\n",
    "            [text_prompt],\n",
    "            padding=True,\n",
    "            return_tensors=\"pt\",\n",
    "            truncation=True\n",
    "        ).to(device)\n",
    "\n",
    "        # Generate the embedding using the text encoder\n",
    "        with torch.no_grad():\n",
    "            text_features = model.get_text_features(**inputs)\n",
    "\n",
    "        # Normalize the embedding (CRITICAL: must match the image indexing normalization)\n",
    "        embedding = text_features.cpu().numpy().flatten()\n",
    "        embedding = embedding / np.linalg.norm(embedding)\n",
    "\n",
    "        # Ensure it's float32 for FAISS\n",
    "        return embedding.astype('float32')\n",
    "    except Exception as e:\n",
    "        print(f\"Error processing text prompt '{text_prompt}': {e}\")\n",
    "        return None\n",
    "\n",
    "\n",
    "def search_image_similarity(query_vector: np.ndarray, index, k: int = 5):\n",
    "    \"\"\" Performs the search on the FAISS index.\"\"\"\n",
    "    if index is None:\n",
    "        print(\"Error: FAISS index not loaded.\")\n",
    "        return None, None\n",
    "    try:\n",
    "        query_vector = np.expand_dims(query_vector, axis=0) # Reshape for FAISS\n",
    "        distances, indices = index.search(query_vector, k)\n",
    "        return indices[0], distances[0]\n",
    "    except Exception as e:\n",
    "        print(f\"Error during FAISS search: {e}\")\n",
    "        return None, None\n",
    "\n",
    "API_URL = \"https://api-inference.huggingface.co/models/openai/whisper-large-v3-turbo\"\n",
    "# headers variable is defined at the top\n",
    "\n",
    "\n",
    "def transcribe_speech(audio_data):\n",
    "    \"\"\"\n",
    "    Transcribes speech from audio data using the Hugging Face Whisper API.\n",
    "\n",
    "    Args:\n",
    "        audio_data: A tuple (sampling_rate, audio_array) where audio_array is a numpy array.\n",
    "\n",
    "    Returns:\n",
    "        A string containing the transcribed text or an error message.\n",
    "    \"\"\"\n",
    "    if audio_data is None:\n",
    "        return \"Please provide audio data.\"\n",
    "\n",
    "    try:\n",
    "        # When type=\"numpy\", gradio provides a tuple (sampling_rate, audio_array)\n",
    "        sampling_rate, audio_array = audio_data\n",
    "\n",
    "        # Convert numpy array to bytes in WAV format\n",
    "        with io.BytesIO() as wav_buffer:\n",
    "            # Ensure audio_array is float32 as required by soundfile\n",
    "            if audio_array.dtype != np.float32:\n",
    "                audio_array = audio_array.astype(np.float32)\n",
    "            sf.write(wav_buffer, audio_array, sampling_rate, format='WAV')\n",
    "            data = wav_buffer.getvalue()\n",
    "\n",
    "        # Ensure 'headers' variable is accessible (defined at the top)\n",
    "        if 'headers' not in globals():\n",
    "            print(\"Error: Hugging Face API headers are not defined.\")\n",
    "            return \"Error: API headers not configured.\"\n",
    "\n",
    "        response = requests.post(API_URL, headers=headers, data=data)\n",
    "        response.raise_for_status() # Raise an exception for bad status codes\n",
    "\n",
    "        response_json = response.json()\n",
    "        # Correctly access the text from the dictionary response\n",
    "        if 'text' in response_json:\n",
    "            return response_json['text'].strip() # Return only the text, stripped of leading/trailing whitespace\n",
    "        else:\n",
    "            print(f\"API Response does not contain 'text' key: {response_json}\")\n",
    "            return \"Error: API Response does not contain 'text' key.\"\n",
    "\n",
    "    except requests.exceptions.RequestException as e:\n",
    "        print(f\"API Request Error: {e}\")\n",
    "        # We need to handle the case where 'response' might not be defined if the request itself fails\n",
    "        if 'response' in locals() and response is not None:\n",
    "             print(f\"Response Status Code: {response.status_code}\")\n",
    "             print(f\"Response Content: {response.text}\")\n",
    "        return f\"API Request Error: {e}\"\n",
    "    except Exception as e:\n",
    "        print(f\"Processing Error: {type(e).__name__}: {e}\") # Print the exception type\n",
    "        return f\"Processing Error: {type(e).__name__}: {e}\""
   ]
  },
  {
   "cell_type": "code",
   "execution_count": 22,
   "metadata": {
    "execution": {
     "iopub.execute_input": "2025-10-10T19:58:32.088401Z",
     "iopub.status.busy": "2025-10-10T19:58:32.088212Z",
     "iopub.status.idle": "2025-10-10T19:58:32.108727Z",
     "shell.execute_reply": "2025-10-10T19:58:32.107979Z",
     "shell.execute_reply.started": "2025-10-10T19:58:32.088385Z"
    },
    "trusted": true
   },
   "outputs": [
    {
     "name": "stdout",
     "output_type": "stream",
     "text": [
      "Created user_feedback.txt\n"
     ]
    }
   ],
   "source": [
    "# --- User Feedback ---\n",
    "\n",
    "# Create the feedback file if it doesn't exist\n",
    "if not os.path.exists(\"user_feedback.txt\"):\n",
    "    with open(\"user_feedback.txt\", \"w\") as f:\n",
    "        f.write(\"User Feedback:\\n\")\n",
    "    print(\"Created user_feedback.txt\")\n",
    "\n",
    "# The submit_feedback_fn is defined below in ZLJj43QfMNYk"
   ]
  },
  {
   "cell_type": "code",
   "execution_count": 23,
   "metadata": {
    "execution": {
     "iopub.execute_input": "2025-10-10T19:58:32.109687Z",
     "iopub.status.busy": "2025-10-10T19:58:32.109469Z",
     "iopub.status.idle": "2025-10-10T19:58:39.001018Z",
     "shell.execute_reply": "2025-10-10T19:58:39.000290Z",
     "shell.execute_reply.started": "2025-10-10T19:58:32.109671Z"
    },
    "trusted": true
   },
   "outputs": [
    {
     "data": {
      "application/vnd.jupyter.widget-view+json": {
       "model_id": "66e28cfceda245638b2e35ba66189bda",
       "version_major": 2,
       "version_minor": 0
      },
      "text/plain": [
       "config.json:   0%|          | 0.00/851 [00:00<?, ?B/s]"
      ]
     },
     "metadata": {},
     "output_type": "display_data"
    },
    {
     "data": {
      "application/vnd.jupyter.widget-view+json": {
       "model_id": "cae0c512d7524fb19805669ff93e1e83",
       "version_major": 2,
       "version_minor": 0
      },
      "text/plain": [
       "model.safetensors:   0%|          | 0.00/541M [00:00<?, ?B/s]"
      ]
     },
     "metadata": {},
     "output_type": "display_data"
    },
    {
     "data": {
      "application/vnd.jupyter.widget-view+json": {
       "model_id": "9f44315cef1d41feb5385ac5805ab46e",
       "version_major": 2,
       "version_minor": 0
      },
      "text/plain": [
       "tokenizer_config.json: 0.00B [00:00, ?B/s]"
      ]
     },
     "metadata": {},
     "output_type": "display_data"
    },
    {
     "data": {
      "application/vnd.jupyter.widget-view+json": {
       "model_id": "7b99e51924174ffbabd48f53a2d6c048",
       "version_major": 2,
       "version_minor": 0
      },
      "text/plain": [
       "vocab.txt: 0.00B [00:00, ?B/s]"
      ]
     },
     "metadata": {},
     "output_type": "display_data"
    },
    {
     "data": {
      "application/vnd.jupyter.widget-view+json": {
       "model_id": "11915420bbfe412f9ff596f166e87b5a",
       "version_major": 2,
       "version_minor": 0
      },
      "text/plain": [
       "tokenizer.json: 0.00B [00:00, ?B/s]"
      ]
     },
     "metadata": {},
     "output_type": "display_data"
    },
    {
     "data": {
      "application/vnd.jupyter.widget-view+json": {
       "model_id": "e62b6e54aec34b5e93144d89f58c0156",
       "version_major": 2,
       "version_minor": 0
      },
      "text/plain": [
       "special_tokens_map.json:   0%|          | 0.00/125 [00:00<?, ?B/s]"
      ]
     },
     "metadata": {},
     "output_type": "display_data"
    },
    {
     "name": "stderr",
     "output_type": "stream",
     "text": [
      "Device set to use cuda:0\n"
     ]
    }
   ],
   "source": [
    "from transformers import pipeline # For sentiment analysis\n",
    "\n",
    "# ==========================================================\n",
    "# 1️⃣  Initialize Sentiment Analysis Model (Hugging Face)\n",
    "# ==========================================================\n",
    "sentiment_pipe = pipeline(\n",
    "    \"text-classification\",\n",
    "    model=\"tabularisai/multilingual-sentiment-analysis\",\n",
    "    token=HF_API_TOKEN\n",
    ")"
   ]
  },
  {
   "cell_type": "code",
   "execution_count": 24,
   "metadata": {
    "execution": {
     "iopub.execute_input": "2025-10-10T19:58:39.002048Z",
     "iopub.status.busy": "2025-10-10T19:58:39.001797Z",
     "iopub.status.idle": "2025-10-10T19:58:39.011446Z",
     "shell.execute_reply": "2025-10-10T19:58:39.010473Z",
     "shell.execute_reply.started": "2025-10-10T19:58:39.002030Z"
    },
    "trusted": true
   },
   "outputs": [],
   "source": [
    "# ==========================================================\n",
    "# 3️⃣  Feedback Function with Sentiment Analysis\n",
    "# ==========================================================\n",
    "def submit_feedback_fn(text_query, audio_query, image_query, transcribed_text_output, feedback_text, rating):\n",
    "    input_type = \"\"\n",
    "    query_value = \"\"\n",
    "\n",
    "    # Determine the input type used\n",
    "    if text_query and text_query.strip():\n",
    "        input_type = \"text\"\n",
    "        query_value = text_query\n",
    "\n",
    "    if audio_query is not None:\n",
    "        input_type += \" speech\"\n",
    "        query_value += transcribed_text_output if transcribed_text_output else \"N/A\"\n",
    "\n",
    "    if image_query is not None:\n",
    "        input_type += \" image\"\n",
    "        query_value += str(image_query)\n",
    "\n",
    "    if not input_type:\n",
    "        input_type = \"unknown\"\n",
    "        query_value = \"N/A\"\n",
    "\n",
    "\n",
    "# ==========================================================\n",
    "# 🔹 Sentiment Analysis + Rating Integration (Using Hugging Face)\n",
    "# ==========================================================\n",
    "    try:\n",
    "        sentiment_result = sentiment_pipe(feedback_text)[0]\n",
    "        sentiment_label = sentiment_result[\"label\"]\n",
    "        sentiment_score = round(sentiment_result[\"score\"], 3)\n",
    "\n",
    "        # Combine sentiment with rating\n",
    "        if rating >= 4 and sentiment_label == \"NEGATIVE\":\n",
    "            final_sentiment = f\"Conflict 🤔 (Positive rating but negative text)\"\n",
    "        elif rating <= 2 and sentiment_label == \"POSITIVE\":\n",
    "            final_sentiment = f\"Conflict 🤔 (Negative rating but positive text)\"\n",
    "        else:\n",
    "            # Weighted average for consistency (0–1 scale)\n",
    "            normalized_rating = rating / 5.0\n",
    "            hybrid_score = round((sentiment_score + normalized_rating) / 2, 3)\n",
    "            if (rating >= 4 and sentiment_label == \"NEGATIVE\") or (rating <= 2 and sentiment_label == \"POSITIVE\"):\n",
    "                final_sentiment = f\"Conflict 🤔 (rating={rating}, text={sentiment_label} {sentiment_score})\"\n",
    "            else:\n",
    "                final_sentiment = f\"{sentiment_label} ({hybrid_score})\"\n",
    "\n",
    "    except Exception as e:\n",
    "        sentiment_label = \"Error\"\n",
    "        sentiment_score = 0.0\n",
    "        final_sentiment = f\"Error (0.0)\"\n",
    "        print(f\"Sentiment analysis failed: {e}\")\n",
    "\n",
    "    # ==========================================================\n",
    "    # 🔹 Save Feedback\n",
    "    # ==========================================================\n",
    "    with open(\"user_feedback.txt\", \"a\", encoding=\"utf-8\") as f:\n",
    "        f.write(\n",
    "        f\"Type: {input_type} | Query: {query_value} | Feedback: {feedback_text} \"\n",
    "        f\"| Final Sentiment: {final_sentiment} | Raw Sentiment: {sentiment_label} ({sentiment_score}) | Rating: {rating}\\n\"\n",
    "    )\n",
    "\n",
    "    return f\"✅ Thanks, Your Feedback has been recorded\""
   ]
  },
  {
   "cell_type": "code",
   "execution_count": 25,
   "metadata": {
    "execution": {
     "iopub.execute_input": "2025-10-10T19:58:39.015755Z",
     "iopub.status.busy": "2025-10-10T19:58:39.015244Z",
     "iopub.status.idle": "2025-10-10T19:58:48.363367Z",
     "shell.execute_reply": "2025-10-10T19:58:48.361875Z",
     "shell.execute_reply.started": "2025-10-10T19:58:39.015732Z"
    },
    "trusted": true
   },
   "outputs": [
    {
     "data": {
      "application/vnd.jupyter.widget-view+json": {
       "model_id": "bf37c536def14d82a49dbe6fcc9003dd",
       "version_major": 2,
       "version_minor": 0
      },
      "text/plain": [
       "preprocessor_config.json:   0%|          | 0.00/433 [00:00<?, ?B/s]"
      ]
     },
     "metadata": {},
     "output_type": "display_data"
    },
    {
     "data": {
      "application/vnd.jupyter.widget-view+json": {
       "model_id": "cf2b2332c9de412b9f64ecaad83f7bbd",
       "version_major": 2,
       "version_minor": 0
      },
      "text/plain": [
       "tokenizer_config.json:   0%|          | 0.00/232 [00:00<?, ?B/s]"
      ]
     },
     "metadata": {},
     "output_type": "display_data"
    },
    {
     "data": {
      "application/vnd.jupyter.widget-view+json": {
       "model_id": "3441bbf35bdf452080a040d57208e2cb",
       "version_major": 2,
       "version_minor": 0
      },
      "text/plain": [
       "spm_char.model:   0%|          | 0.00/238k [00:00<?, ?B/s]"
      ]
     },
     "metadata": {},
     "output_type": "display_data"
    },
    {
     "data": {
      "application/vnd.jupyter.widget-view+json": {
       "model_id": "6cebe9720336423297157b81c8937f13",
       "version_major": 2,
       "version_minor": 0
      },
      "text/plain": [
       "added_tokens.json:   0%|          | 0.00/40.0 [00:00<?, ?B/s]"
      ]
     },
     "metadata": {},
     "output_type": "display_data"
    },
    {
     "data": {
      "application/vnd.jupyter.widget-view+json": {
       "model_id": "713fcc7f78ef416ca20d6854167122ff",
       "version_major": 2,
       "version_minor": 0
      },
      "text/plain": [
       "special_tokens_map.json:   0%|          | 0.00/234 [00:00<?, ?B/s]"
      ]
     },
     "metadata": {},
     "output_type": "display_data"
    },
    {
     "data": {
      "application/vnd.jupyter.widget-view+json": {
       "model_id": "cb6ed09eee6e400eb277cd970539b1cd",
       "version_major": 2,
       "version_minor": 0
      },
      "text/plain": [
       "config.json: 0.00B [00:00, ?B/s]"
      ]
     },
     "metadata": {},
     "output_type": "display_data"
    },
    {
     "data": {
      "application/vnd.jupyter.widget-view+json": {
       "model_id": "ef902bd958fe4405a43f07ce43ff0d5f",
       "version_major": 2,
       "version_minor": 0
      },
      "text/plain": [
       "pytorch_model.bin:   0%|          | 0.00/585M [00:00<?, ?B/s]"
      ]
     },
     "metadata": {},
     "output_type": "display_data"
    },
    {
     "data": {
      "application/vnd.jupyter.widget-view+json": {
       "model_id": "d8ed53ad427c4ac8af2eac819053fa6d",
       "version_major": 2,
       "version_minor": 0
      },
      "text/plain": [
       "model.safetensors:   0%|          | 0.00/585M [00:00<?, ?B/s]"
      ]
     },
     "metadata": {},
     "output_type": "display_data"
    },
    {
     "data": {
      "application/vnd.jupyter.widget-view+json": {
       "model_id": "1c41050c2f4946e7890cd4d8ab1d90be",
       "version_major": 2,
       "version_minor": 0
      },
      "text/plain": [
       "config.json:   0%|          | 0.00/636 [00:00<?, ?B/s]"
      ]
     },
     "metadata": {},
     "output_type": "display_data"
    },
    {
     "data": {
      "application/vnd.jupyter.widget-view+json": {
       "model_id": "1dfd6b4eca42412fb510a039f8afa7f3",
       "version_major": 2,
       "version_minor": 0
      },
      "text/plain": [
       "pytorch_model.bin:   0%|          | 0.00/50.7M [00:00<?, ?B/s]"
      ]
     },
     "metadata": {},
     "output_type": "display_data"
    }
   ],
   "source": [
    "\n",
    "# loading  text-to-speech model\n",
    "processor_tts = SpeechT5Processor.from_pretrained(\"microsoft/speecht5_tts\")\n",
    "model_tts = SpeechT5ForTextToSpeech.from_pretrained(\"microsoft/speecht5_tts\")\n",
    "vocoder_tts = SpeechT5HifiGan.from_pretrained(\"microsoft/speecht5_hifigan\")"
   ]
  },
  {
   "cell_type": "code",
   "execution_count": 26,
   "metadata": {
    "execution": {
     "iopub.execute_input": "2025-10-10T19:58:48.364861Z",
     "iopub.status.busy": "2025-10-10T19:58:48.364500Z",
     "iopub.status.idle": "2025-10-10T19:58:48.375493Z",
     "shell.execute_reply": "2025-10-10T19:58:48.373659Z",
     "shell.execute_reply.started": "2025-10-10T19:58:48.364827Z"
    },
    "trusted": true
   },
   "outputs": [],
   "source": [
    "# generate random speaker embedding\n",
    "speaker_embeddings = torch.randn(1, 512)\n",
    "def text_to_speech(text):\n",
    "    if not text or text.strip() == \"\":\n",
    "        return None\n",
    "    try:\n",
    "        inputs = processor_tts(text=text, return_tensors=\"pt\")\n",
    "        speech = model_tts.generate_speech(\n",
    "            inputs[\"input_ids\"],\n",
    "            speaker_embeddings=speaker_embeddings,\n",
    "            vocoder=vocoder_tts\n",
    "        )\n",
    "        tmpfile = tempfile.NamedTemporaryFile(delete=False, suffix=\".wav\")\n",
    "        sf.write(tmpfile.name, speech.numpy(), 16000)\n",
    "        return tmpfile.name\n",
    "    except Exception as e:\n",
    "        print(\"TTS Error:\", e)\n",
    "        return None"
   ]
  },
  {
   "cell_type": "code",
   "execution_count": 27,
   "metadata": {
    "execution": {
     "iopub.execute_input": "2025-10-10T19:58:48.377980Z",
     "iopub.status.busy": "2025-10-10T19:58:48.377599Z",
     "iopub.status.idle": "2025-10-10T19:58:48.444535Z",
     "shell.execute_reply": "2025-10-10T19:58:48.443422Z",
     "shell.execute_reply.started": "2025-10-10T19:58:48.377929Z"
    },
    "trusted": true
   },
   "outputs": [],
   "source": [
    "def multimodal_search_interface(text_input, image_input, audio_input):\n",
    "    \"\"\"\n",
    "    Handles multimodal search queries from the Gradio interface.\n",
    "\n",
    "    Args:\n",
    "        text_input: Text entered in the text box.\n",
    "        image_input: Uploaded image file path (str) or None.\n",
    "        audio_input: Audio data (tuple or None) from the microphone.\n",
    "\n",
    "    Returns:\n",
    "        A tuple containing:\n",
    "        - A list of tuples [(score, PIL_Image), ...] for Gradio Gallery output,\n",
    "          or an empty list if an error occurred or no results were found.\n",
    "        - A string containing the transcribed text if audio was used, otherwise an empty string.\n",
    "    \"\"\"\n",
    "    # Check if essential components are loaded\n",
    "    if model is None or processor is None or tokenizer is None or index is None or image_paths is None:\n",
    "        error_message = \"Error: Essential components (model, index, etc.) not loaded. Please check the setup steps.\"\n",
    "        print(error_message)\n",
    "        # Return empty results and the error message\n",
    "        return [], error_message\n",
    "\n",
    "    query_vector = None\n",
    "    query_type = None\n",
    "    query_display = \"No query provided.\"\n",
    "    search_performed = False\n",
    "    transcribed_text = \"\" # Initialize transcribed text\n",
    "    text_embedding = None\n",
    "    image_embedding = None\n",
    "    \n",
    "\n",
    "    # Process audio first if provided\n",
    "    if audio_input is not None:\n",
    "        transcribed_text = transcribe_speech(audio_input)\n",
    "        if \"Error\" in transcribed_text or \"Please provide audio\" in transcribed_text:\n",
    "             print(f\"Audio transcription failed: {transcribed_text}\")\n",
    "             return [], transcribed_text\n",
    "        # Use transcribed text as the primary text input\n",
    "        text_input = transcribed_text\n",
    "\n",
    "    # Get text embedding if text input is provided (either directly or from audio)\n",
    "    if text_input and text_input.strip():\n",
    "        text_embedding = get_text_embedding(text_input.strip(), model, tokenizer, device)\n",
    "        query_type = 'text'\n",
    "        query_display = f\"Text Query: '{text_input.strip()}'\"\n",
    "        search_performed = True\n",
    "\n",
    "    # Get image embedding if image input is provided\n",
    "    if image_input is not None:\n",
    "        # image_input from gr.Image(type=\"filepath\") is the file path\n",
    "        image_embedding = get_image_embedding(image_input, model, processor, device)\n",
    "        if query_type is None: # If no text query yet\n",
    "            query_type = 'image'\n",
    "            query_display = f\"Image Query: {os.path.basename(image_input)}\"\n",
    "        else: # If there is also a text query\n",
    "            query_type = 'text and image'\n",
    "            query_display += f\" + Image Query: {os.path.basename(image_input)}\"\n",
    "        search_performed = True\n",
    "\n",
    "    # Combine embeddings if both are available\n",
    "    if text_embedding is not None and image_embedding is not None:\n",
    "        # Simple averaging of normalized embeddings\n",
    "        query_vector = (text_embedding + image_embedding) / 2\n",
    "        query_vector = query_vector / np.linalg.norm(query_vector) # Re-normalize\n",
    "    elif text_embedding is not None:\n",
    "        query_vector = text_embedding\n",
    "    elif image_embedding is not None:\n",
    "        query_vector = image_embedding\n",
    "\n",
    "    if not search_performed or query_vector is None:\n",
    "        info_message = \"Please provide a text query, upload an image, or speak your query.\"\n",
    "        print(info_message)\n",
    "        return [], info_message\n",
    "\n",
    "    if query_vector is None:\n",
    "        error_message = f\"Failed to generate embedding for the query: {query_display}\"\n",
    "        print(error_message)\n",
    "        return [], error_message\n",
    "\n",
    "    # Perform search\n",
    "    K_RESULTS = 9 # change as output cases\n",
    "    indices, scores = search_image_similarity(query_vector, index, K_RESULTS)\n",
    "\n",
    "    if indices is None or len(indices) == 0:\n",
    "        info_message = f\"No similar items found for your query: {query_display}\"\n",
    "        print(info_message)\n",
    "        return [], info_message\n",
    "\n",
    "    # Prepare results for Gradio Gallery\n",
    "    results_for_gallery = []\n",
    "\n",
    "    for index_id, score in zip(indices, scores):\n",
    "        try:\n",
    "            if 0 <= index_id < len(image_paths): # Add bounds checking\n",
    "                result_path = image_paths[index_id]\n",
    "                if os.path.exists(result_path): # Check if file exists\n",
    "                    result_image = Image.open(result_path)\n",
    "                    # Gradio Gallery expects a tuple of (image, label/caption)\n",
    "                    results_for_gallery.append((result_image, f\"Score: {score:.4f}\"))\n",
    "                else:\n",
    "                    print(f\"Warning: Image file not found at {result_path}. Skipping.\")\n",
    "            else:\n",
    "                 print(f\"Warning: Index {index_id} out of bounds for image_paths ({len(image_paths)}). Skipping.\")\n",
    "\n",
    "        except Exception as e:\n",
    "            print(f\"Error processing result image with index_id {index_id}: {e}. Skipping.\")\n",
    "            continue\n",
    "\n",
    "    if not results_for_gallery:\n",
    "         info_message = f\"No valid result images found for your query: {query_display}\"\n",
    "         print(info_message)\n",
    "         return [], info_message\n",
    "    \n",
    "\n",
    "    return results_for_gallery, transcribed_text"
   ]
  },
  {
   "cell_type": "code",
   "execution_count": null,
   "metadata": {
    "execution": {
     "iopub.execute_input": "2025-10-10T19:58:48.446113Z",
     "iopub.status.busy": "2025-10-10T19:58:48.445793Z"
    },
    "trusted": true
   },
   "outputs": [
    {
     "name": "stdout",
     "output_type": "stream",
     "text": [
      "Launching Gradio Interface...\n"
     ]
    },
    {
     "data": {
      "application/vnd.jupyter.widget-view+json": {
       "model_id": "56489acfbf1c450ab365515d060ab0ee",
       "version_major": 2,
       "version_minor": 0
      },
      "text/plain": [
       "model.safetensors:   0%|          | 0.00/50.6M [00:00<?, ?B/s]"
      ]
     },
     "metadata": {},
     "output_type": "display_data"
    },
    {
     "data": {
      "text/html": [
       "\n",
       "                <audio  controls=\"controls\" autoplay=\"autoplay\">\n",
       "                    <source src=\"data:audio/x-wav;base64,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\" type=\"audio/x-wav\" />\n",
       "                    Your browser does not support the audio element.\n",
       "                </audio>\n",
       "              "
      ],
      "text/plain": [
       "<IPython.lib.display.Audio object>"
      ]
     },
     "metadata": {},
     "output_type": "display_data"
    },
    {
     "name": "stdout",
     "output_type": "stream",
     "text": [
      "* Running on local URL:  http://127.0.0.1:7860\n",
      "* Running on public URL: https://8b59b0bf6510a58a64.gradio.live\n",
      "\n",
      "This share link expires in 1 week. For free permanent hosting and GPU upgrades, run `gradio deploy` from the terminal in the working directory to deploy to Hugging Face Spaces (https://huggingface.co/spaces)\n"
     ]
    },
    {
     "data": {
      "text/html": [
       "<div><iframe src=\"https://8b59b0bf6510a58a64.gradio.live\" width=\"100%\" height=\"500\" allow=\"autoplay; camera; microphone; clipboard-read; clipboard-write;\" frameborder=\"0\" allowfullscreen></iframe></div>"
      ],
      "text/plain": [
       "<IPython.core.display.HTML object>"
      ]
     },
     "metadata": {},
     "output_type": "display_data"
    }
   ],
   "source": [
    "# --- Create and Launch Gradio Interface ---\n",
    "print(\"Launching Gradio Interface...\")\n",
    "\n",
    "if model is not None and processor is not None and tokenizer is not None and index is not None and image_paths is not None:\n",
    "    # Define the Gradio interface\n",
    "    # Using gr.Row to place components on the same line\n",
    "    with gr.Blocks() as iface:\n",
    "        gr.Markdown(\n",
    "            \"\"\"\n",
    "            # Multimodal Product Search\n",
    "            Search for products using text, image, or speech. Ensure you have placed images in the 'data_images' directory for indexing before running the search.\n",
    "            \"\"\"\n",
    "        )\n",
    "           \n",
    "        with gr.Row():\n",
    "            text_input = gr.Textbox(label=\"Text Query (Optional)\", scale=2) # Use scale to control relative width\n",
    "            audio_input = gr.Audio(sources=[\"microphone\"], type=\"numpy\", label=\"Record Audio Query (Optional)\", scale=1) # Use scale to control relative width\n",
    "\n",
    "        image_input = gr.Image(type=\"filepath\", label=\"Upload Image Query (Optional)\", height=300)\n",
    "        search_button = gr.Button(\"Search\")\n",
    "        transcribed_text_output = gr.Textbox(label=\"Transcribed Speech\", interactive=False) # Make transcribed text output non-interactive\n",
    "        gallery_output = gr.Gallery(label=\"Search Results\", columns=3, rows=3, object_fit=\"contain\", height=400)\n",
    "        \n",
    "         # Add a welcome message audio component that autoplays\n",
    "        welcome_audio = text_to_speech(\"Welcome to the product search system.\")\n",
    "        if welcome_audio:\n",
    "            display(ipd.Audio(welcome_audio, autoplay=True))\n",
    "            \n",
    "        # Link the search button click to the search function\n",
    "        search_button.click(\n",
    "            fn=multimodal_search_interface,\n",
    "            inputs=[text_input, image_input, audio_input],\n",
    "            outputs=[gallery_output, transcribed_text_output])\n",
    "\n",
    "        # ================== 🔹 Feedback Section (Start) 🔹 ==================\n",
    "        gr.Markdown(\"---\")\n",
    "        gr.Markdown(\"### 📝 Feedback Section\")\n",
    "\n",
    "        with gr.Row():\n",
    "            feedback_text = gr.Textbox(\n",
    "                label=\"Write your feedback here\",\n",
    "                placeholder=\"Share your thoughts about your experience...\",\n",
    "                lines=4,\n",
    "                scale=2\n",
    "            )\n",
    "            rating = gr.Slider(\n",
    "                minimum=1,\n",
    "                maximum=5,\n",
    "                step=1,\n",
    "                label=\"Rating (1–5 ⭐)\",\n",
    "                value=5,\n",
    "                scale=1\n",
    "            )\n",
    "\n",
    "        submit_feedback = gr.Button(\"Submit Feedback\")\n",
    "        feedback_output = gr.Textbox(label=\"Status\", interactive=False)\n",
    "\n",
    "\n",
    "        submit_feedback.click(\n",
    "            fn=submit_feedback_fn,\n",
    "            inputs=[text_input, audio_input, image_input, transcribed_text_output, feedback_text, rating], # Using transcribed text as a proxy for the query\n",
    "            outputs=[feedback_output]\n",
    "        )\n",
    "\n",
    "        # ================== 🔹 Feedback Section (End) 🔹 ==================\n",
    "\n",
    "    # Launch the interface\n",
    "    iface.launch(share=True, debug=True)\n",
    "else:\n",
    "    print(\"Cannot launch Gradio interface. Essential components are not loaded. Please check the setup steps.\")"
   ]
  },
  {
   "cell_type": "code",
   "execution_count": null,
   "metadata": {
    "trusted": true
   },
   "outputs": [],
   "source": []
  }
 ],
 "metadata": {
  "kaggle": {
   "accelerator": "nvidiaTeslaT4",
   "dataSources": [
    {
     "datasetId": 139630,
     "sourceId": 329006,
     "sourceType": "datasetVersion"
    }
   ],
   "dockerImageVersionId": 31090,
   "isGpuEnabled": true,
   "isInternetEnabled": true,
   "language": "python",
   "sourceType": "notebook"
  },
  "kernelspec": {
   "display_name": "Python 3",
   "language": "python",
   "name": "python3"
  },
  "language_info": {
   "codemirror_mode": {
    "name": "ipython",
    "version": 3
   },
   "file_extension": ".py",
   "mimetype": "text/x-python",
   "name": "python",
   "nbconvert_exporter": "python",
   "pygments_lexer": "ipython3",
   "version": "3.11.13"
  }
 },
 "nbformat": 4,
 "nbformat_minor": 4
}
